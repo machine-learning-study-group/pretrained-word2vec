{
 "cells": [
  {
   "cell_type": "markdown",
   "metadata": {},
   "source": [
    "# Experiment with pre-trained word2vec model"
   ]
  },
  {
   "cell_type": "code",
   "execution_count": 7,
   "metadata": {},
   "outputs": [
    {
     "name": "stdout",
     "output_type": "stream",
     "text": [
      "Requirement already satisfied: nltk in /davepool/home/dns/.virtualenvs/ml-group/lib/python3.5/site-packages (3.3)\n",
      "Requirement already satisfied: six in /davepool/home/dns/.virtualenvs/ml-group/lib/python3.5/site-packages (from nltk) (1.11.0)\n",
      "Requirement already up-to-date: gensim in /davepool/home/dns/.virtualenvs/ml-group/lib/python3.5/site-packages (3.6.0)\n",
      "Requirement already satisfied, skipping upgrade: smart-open>=1.2.1 in /davepool/home/dns/.virtualenvs/ml-group/lib/python3.5/site-packages (from gensim) (1.7.1)\n",
      "Requirement already satisfied, skipping upgrade: numpy>=1.11.3 in /davepool/home/dns/.virtualenvs/ml-group/lib/python3.5/site-packages (from gensim) (1.15.2)\n",
      "Requirement already satisfied, skipping upgrade: six>=1.5.0 in /davepool/home/dns/.virtualenvs/ml-group/lib/python3.5/site-packages (from gensim) (1.11.0)\n",
      "Requirement already satisfied, skipping upgrade: scipy>=0.18.1 in /davepool/home/dns/.virtualenvs/ml-group/lib/python3.5/site-packages (from gensim) (1.1.0)\n",
      "Requirement already satisfied, skipping upgrade: boto>=2.32 in /davepool/home/dns/.virtualenvs/ml-group/lib/python3.5/site-packages (from smart-open>=1.2.1->gensim) (2.49.0)\n",
      "Requirement already satisfied, skipping upgrade: boto3 in /davepool/home/dns/.virtualenvs/ml-group/lib/python3.5/site-packages (from smart-open>=1.2.1->gensim) (1.9.25)\n",
      "Requirement already satisfied, skipping upgrade: requests in /davepool/home/dns/.virtualenvs/ml-group/lib/python3.5/site-packages (from smart-open>=1.2.1->gensim) (2.19.1)\n",
      "Requirement already satisfied, skipping upgrade: bz2file in /davepool/home/dns/.virtualenvs/ml-group/lib/python3.5/site-packages (from smart-open>=1.2.1->gensim) (0.98)\n",
      "Requirement already satisfied, skipping upgrade: s3transfer<0.2.0,>=0.1.10 in /davepool/home/dns/.virtualenvs/ml-group/lib/python3.5/site-packages (from boto3->smart-open>=1.2.1->gensim) (0.1.13)\n",
      "Requirement already satisfied, skipping upgrade: jmespath<1.0.0,>=0.7.1 in /davepool/home/dns/.virtualenvs/ml-group/lib/python3.5/site-packages (from boto3->smart-open>=1.2.1->gensim) (0.9.3)\n",
      "Requirement already satisfied, skipping upgrade: botocore<1.13.0,>=1.12.25 in /davepool/home/dns/.virtualenvs/ml-group/lib/python3.5/site-packages (from boto3->smart-open>=1.2.1->gensim) (1.12.25)\n",
      "Requirement already satisfied, skipping upgrade: certifi>=2017.4.17 in /davepool/home/dns/.virtualenvs/ml-group/lib/python3.5/site-packages (from requests->smart-open>=1.2.1->gensim) (2018.10.15)\n",
      "Requirement already satisfied, skipping upgrade: urllib3<1.24,>=1.21.1 in /davepool/home/dns/.virtualenvs/ml-group/lib/python3.5/site-packages (from requests->smart-open>=1.2.1->gensim) (1.23)\n",
      "Requirement already satisfied, skipping upgrade: idna<2.8,>=2.5 in /davepool/home/dns/.virtualenvs/ml-group/lib/python3.5/site-packages (from requests->smart-open>=1.2.1->gensim) (2.7)\n",
      "Requirement already satisfied, skipping upgrade: chardet<3.1.0,>=3.0.2 in /davepool/home/dns/.virtualenvs/ml-group/lib/python3.5/site-packages (from requests->smart-open>=1.2.1->gensim) (3.0.4)\n",
      "Requirement already satisfied, skipping upgrade: python-dateutil<3.0.0,>=2.1; python_version >= \"2.7\" in /davepool/home/dns/.virtualenvs/ml-group/lib/python3.5/site-packages (from botocore<1.13.0,>=1.12.25->boto3->smart-open>=1.2.1->gensim) (2.7.3)\n",
      "Requirement already satisfied, skipping upgrade: docutils>=0.10 in /davepool/home/dns/.virtualenvs/ml-group/lib/python3.5/site-packages (from botocore<1.13.0,>=1.12.25->boto3->smart-open>=1.2.1->gensim) (0.14)\n",
      "[nltk_data] Downloading package punkt to /home/dns/nltk_data...\n",
      "[nltk_data]   Package punkt is already up-to-date!\n"
     ]
    }
   ],
   "source": [
    "# set up dependencies\n",
    "\n",
    "!pip install nltk\n",
    "!pip install --upgrade gensim\n",
    "\n",
    "import numpy as np\n",
    "import os\n",
    "import os.path\n",
    "\n",
    "from nltk.tokenize import word_tokenize\n",
    "import nltk\n",
    "nltk.download('punkt')\n",
    "\n",
    "import glob\n",
    "\n",
    "# See https://radimrehurek.com/gensim/models/keyedvectors.html\n",
    "from gensim.models import KeyedVectors"
   ]
  },
  {
   "cell_type": "code",
   "execution_count": 14,
   "metadata": {},
   "outputs": [
    {
     "name": "stdout",
     "output_type": "stream",
     "text": [
      "Word2vec model already present\n",
      "Word2vec model already unpacked\n"
     ]
    }
   ],
   "source": [
    "# Download model if required\n",
    "if not os.path.isfile('GoogleNews-vectors-negative300.bin.gz'):  \n",
    "    !wget https://s3.amazonaws.com/dl4j-distribution/GoogleNews-vectors-negative300.bin.gz\n",
    "else:\n",
    "    print(\"Word2vec model already present\")\n",
    "    \n",
    "if not os.path.isfile('GoogleNews-vectors-negative300.bin'):\n",
    "    !gunzip -k GoogleNews-vectors-negative300.bin.gz\n",
    "else:\n",
    "    print(\"Word2vec model already unpacked\")"
   ]
  },
  {
   "cell_type": "code",
   "execution_count": 10,
   "metadata": {},
   "outputs": [],
   "source": [
    "# Load word2vec model\n",
    "\n",
    "# deprecated\n",
    "# model = Word2Vec.load_word2vec_format('GoogleNews-vectors-negative300.bin', binary=True)\n",
    "\n",
    "wv = KeyedVectors.load_word2vec_format(\"GoogleNews-vectors-negative300.bin\", binary=True)"
   ]
  },
  {
   "cell_type": "code",
   "execution_count": 12,
   "metadata": {},
   "outputs": [
    {
     "name": "stdout",
     "output_type": "stream",
     "text": [
      "man-woman 1.7279510498046875\n",
      "father-mother 1.6420159339904785\n",
      "brother-sister 2.041814088821411\n",
      "house-ship 3.4339709281921387\n",
      "father-son 1.1890530586242676\n",
      "mother-daughter 1.3808809518814087\n"
     ]
    }
   ],
   "source": [
    "# Now lets compare some vectors\n",
    "print(\"man-woman {}\".format(np.linalg.norm(wv['man'] - wv['woman'])))\n",
    "print(\"father-mother {}\".format(np.linalg.norm(wv['father'] - wv['mother'])))\n",
    "print(\"brother-sister {}\".format(np.linalg.norm(wv['brother'] - wv['sister'])))\n",
    "print(\"house-ship {}\".format(np.linalg.norm(wv['house'] - wv['ship'])))\n",
    "\n",
    "print(\"father-son {}\".format(np.linalg.norm(wv['father'] - wv['son'])))\n",
    "print(\"mother-daughter {}\".format(np.linalg.norm(wv['mother'] - wv['daughter'])))"
   ]
  },
  {
   "cell_type": "code",
   "execution_count": null,
   "metadata": {},
   "outputs": [],
   "source": []
  }
 ],
 "metadata": {
  "kernelspec": {
   "display_name": "Python 3",
   "language": "python",
   "name": "python3"
  },
  "language_info": {
   "codemirror_mode": {
    "name": "ipython",
    "version": 3
   },
   "file_extension": ".py",
   "mimetype": "text/x-python",
   "name": "python",
   "nbconvert_exporter": "python",
   "pygments_lexer": "ipython3",
   "version": "3.5.2"
  }
 },
 "nbformat": 4,
 "nbformat_minor": 2
}
